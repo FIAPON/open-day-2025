{
 "cells": [
  {
   "cell_type": "markdown",
   "id": "93dd810a",
   "metadata": {
    "id": "93dd810a"
   },
   "source": [
    "# Aula Open Day - Aprendizado de Máquina Clássico - Titanic\n",
    "\n",
    "Nesta aula, vamos aprender a explorar e visualizar dados utilizando Python, tendo como base o clássico dataset do Titanic. Mais do que apenas gerar gráficos, vamos exercitar nossa capacidade analítica para interpretar visualmente os dados e compreender os principais fatores que influenciaram a sobrevivência dos passageiros.\n",
    "\n",
    "## **Evolução da Análise: Visualização e Machine Learning**\n",
    "\n",
    "Inicialmente, realizaremos uma análise exploratória por meio de gráficos e visualizações, utilizando bibliotecas como pandas, matplotlib e seaborn. Iremos usar essas ferramentas para entender como criar representações visuais eficazes, investigando aspectos como gênero, idade, classe social e tarifas pagas.\n",
    "\n",
    "Em seguida, daremos um passo além ao aplicar técnicas básicas de aprendizado de máquina supervisionado — mais especificamente o algoritmo K-Nearest Neighbors (KNN). Utilizaremos o KNN para construir um modelo preditivo capaz de estimar a sobrevivência dos passageiros com base nas variáveis analisadas. Essa etapa permitirá aos alunos compreender como transformar dados brutos em features relevantes e como avaliar o desempenho de um modelo simples de classificação.\n",
    "\n",
    "## **Objetivo da Atividade:**\n",
    "\n",
    "O objetivo desta atividade é duplo: desenvolver habilidades sólidas tanto em análise visual quanto em fundamentos de machine learning. Ao final, os alunos serão capazes de:\n",
    "\n",
    "* Explorar dados e gerar visualizações informativas;\n",
    "\n",
    "* Interpretar criticamente os gráficos gerados, propondo ajustes quando necessário;\n",
    "\n",
    "* Preparar dados para uso em modelos de ML;\n",
    "\n",
    "* Aplicar o algoritmo KNN para classificar e prever resultados com base em dados históricos;\n",
    "\n",
    "* Avaliar a acurácia e limitações do modelo construído.\n",
    "\n",
    "Essa abordagem integrada reforça a importância de unir análise exploratória e técnicas preditivas no processo de tomada de decisão baseada em dados.\n"
   ]
  },
  {
   "cell_type": "code",
   "execution_count": 1,
   "id": "17594dc7",
   "metadata": {
    "executionInfo": {
     "elapsed": 225,
     "status": "ok",
     "timestamp": 1693435605499,
     "user": {
      "displayName": "Vinicius Holanda Cavalcante",
      "userId": "04836371402205260315"
     },
     "user_tz": 180
    },
    "id": "17594dc7"
   },
   "outputs": [],
   "source": [
    "# Importando as bibliotecas necessárias\n",
    "import pandas as pd\n",
    "import matplotlib.pyplot as plt\n",
    "import seaborn as sns"
   ]
  },
  {
   "cell_type": "code",
   "execution_count": null,
   "id": "f60ca1b1",
   "metadata": {},
   "outputs": [],
   "source": [
    "# Carregar o dataset Titanic diretamente do Seaborn\n",
    "titanic_data = sns.load_dataset('titanic')"
   ]
  },
  {
   "cell_type": "code",
   "execution_count": null,
   "id": "cc51c522",
   "metadata": {},
   "outputs": [],
   "source": [
    "# Exibir as primeiras linhas do dataset para entender sua estrutura\n",
    "titanic_data.head()"
   ]
  },
  {
   "cell_type": "code",
   "execution_count": null,
   "id": "ae042292",
   "metadata": {},
   "outputs": [],
   "source": [
    "# Exibir informações básicas sobre o dataset\n",
    "titanic_data.info()\n"
   ]
  },
  {
   "cell_type": "markdown",
   "id": "2dcc78a9",
   "metadata": {},
   "source": [
    "## Distribuição de Sobreviventes:\n",
    "\n",
    "Primeiro, vamos visualizar a distribuição dos sobreviventes para entender a proporção entre aqueles que sobreviveram e aqueles que não sobreviveram:"
   ]
  },
  {
   "cell_type": "code",
   "execution_count": null,
   "id": "751ebff3",
   "metadata": {},
   "outputs": [],
   "source": [
    "plt.figure(figsize=(6, 4))\n",
    "sns.countplot(x='survived', data=titanic_data)\n",
    "plt.title('Distribuição de Sobreviventes')\n",
    "plt.xlabel('Sobreviveu (0 = Não, 1 = Sim)')\n",
    "plt.ylabel('Contagem')\n",
    "plt.show()"
   ]
  },
  {
   "cell_type": "markdown",
   "id": "9ff27aee",
   "metadata": {},
   "source": [
    "**Interpretação**: Este gráfico de barras nos mostra a contagem absoluta de passageiros que sobreviveram versus aqueles que não sobreviveram. Uma visualização inicial como essa é essencial para entender o desbalanceamento dos dados, o que pode ser crucial ao construir modelos preditivos."
   ]
  },
  {
   "cell_type": "markdown",
   "id": "db9aea67",
   "metadata": {},
   "source": [
    "## Distribuição de Idade dos Passageiros:\n",
    "\n",
    "Analisar a distribuição da idade pode revelar insights sobre a demografia dos passageiros e como ela se relaciona com a sobrevivência:"
   ]
  },
  {
   "cell_type": "code",
   "execution_count": null,
   "id": "4a0fb57f",
   "metadata": {},
   "outputs": [],
   "source": [
    "plt.figure(figsize=(8, 5))\n",
    "sns.histplot(titanic_data['age'].dropna(), bins=30, kde=True)\n",
    "plt.title('Distribuição de Idade dos Passageiros')\n",
    "plt.xlabel('Idade')\n",
    "plt.ylabel('Frequência')\n",
    "plt.show()\n"
   ]
  },
  {
   "cell_type": "markdown",
   "id": "9a2d7bcb",
   "metadata": {},
   "source": [
    "**Interpretação**: O histograma com uma linha de densidade (KDE) ajuda a visualizar a distribuição de idades, identificando a presença de picos, como crianças pequenas e adultos em idade média. Análises adicionais poderiam investigar se certas faixas etárias tinham uma maior probabilidade de sobrevivência."
   ]
  },
  {
   "cell_type": "markdown",
   "id": "a636405d",
   "metadata": {},
   "source": [
    "## Sobrevivência por Gênero:\n",
    "\n",
    "Vamos explorar como o gênero influenciou a taxa de sobrevivência:"
   ]
  },
  {
   "cell_type": "code",
   "execution_count": null,
   "id": "5fbf5527",
   "metadata": {},
   "outputs": [],
   "source": [
    "plt.figure(figsize=(6, 4))\n",
    "sns.countplot(x='survived', hue='sex', data=titanic_data)\n",
    "plt.title('Sobrevivência por Gênero')\n",
    "plt.xlabel('Sobreviveu (0 = Não, 1 = Sim)')\n",
    "plt.ylabel('Contagem')\n",
    "plt.show()\n"
   ]
  },
  {
   "cell_type": "markdown",
   "id": "8b004ca7",
   "metadata": {},
   "source": [
    "**Interpretação**: Este gráfico de barras empilhadas destaca a diferença significativa nas taxas de sobrevivência entre homens e mulheres. No Titanic, havia uma regra de “mulheres e crianças primeiro” para os botes salva-vidas, o que explica a maior taxa de sobrevivência para mulheres. Esse insight é importante ao considerar variáveis de gênero em análises preditivas."
   ]
  },
  {
   "cell_type": "markdown",
   "id": "9d2ef6b7",
   "metadata": {},
   "source": [
    "## Classe de Passageiros e Taxa de Sobrevivência:\n",
    "\n",
    "Explorar a relação entre a classe social dos passageiros (1ª, 2ª, 3ª classe) e suas taxas de sobrevivência:"
   ]
  },
  {
   "cell_type": "code",
   "execution_count": null,
   "id": "981a9394",
   "metadata": {},
   "outputs": [],
   "source": [
    "plt.figure(figsize=(8, 5))\n",
    "sns.barplot(x='pclass', y='survived', data=titanic_data, ci=None)\n",
    "plt.title('Taxa de Sobrevivência por Classe de Passageiros')\n",
    "plt.xlabel('Classe do Passageiro')\n",
    "plt.ylabel('Taxa de Sobrevivência')\n",
    "plt.show()\n"
   ]
  },
  {
   "cell_type": "markdown",
   "id": "d181a1a3",
   "metadata": {},
   "source": [
    "**Interpretação**: Este gráfico de barras mostra que passageiros da 1ª classe tinham uma maior taxa de sobrevivência comparado com aqueles da 2ª e 3ª classe. Esse padrão provavelmente reflete o acesso mais rápido e fácil aos botes salva-vidas para passageiros em classes mais altas. Isso pode indicar que a classe social era um fator crítico na probabilidade de sobrevivência."
   ]
  },
  {
   "cell_type": "markdown",
   "id": "607ddd82",
   "metadata": {},
   "source": [
    "## Gráfico de Dispersão entre Idade e Tarifa:\n",
    "\n",
    "A relação entre a idade dos passageiros e a tarifa paga, colorida pela sobrevivência, pode revelar tendências interessantes:"
   ]
  },
  {
   "cell_type": "code",
   "execution_count": null,
   "id": "a0dd7342",
   "metadata": {},
   "outputs": [],
   "source": [
    "plt.figure(figsize=(8, 5))\n",
    "sns.scatterplot(x='age', y='fare', hue='survived', data=titanic_data)\n",
    "plt.title('Relação entre Idade e Tarifa')\n",
    "plt.xlabel('Idade')\n",
    "plt.ylabel('Tarifa')\n",
    "plt.show()\n"
   ]
  },
  {
   "cell_type": "markdown",
   "id": "993578f1",
   "metadata": {},
   "source": [
    "**Interpretação**: Este gráfico de dispersão permite observar se há uma correlação entre a tarifa paga e a probabilidade de sobrevivência. Notamos que passageiros que pagaram tarifas mais altas (provavelmente da 1ª classe) tinham uma maior chance de sobrevivência, sugerindo uma correlação entre status econômico e sobrevivência. Outliers como tarifas muito altas e baixas podem indicar a presença de passageiros em cabines de luxo ou tarifas subsidiadas.\n",
    "\n",
    "---"
   ]
  },
  {
   "cell_type": "markdown",
   "id": "1cfdd21f",
   "metadata": {},
   "source": [
    "# **Introdução ao KNN (K-Nearest Neighbors)**\n",
    "\n",
    "O KNN (K-Nearest Neighbors) é um dos algoritmos mais simples e intuitivos de aprendizado de máquina supervisionado. Ele é usado tanto para classificação (descobrir a qual grupo algo pertence) quanto para regressão (prever um valor numérico). Vamos focar no uso do KNN para classificação.\n",
    "\n",
    "## **Como o KNN funciona?**\n",
    "\n",
    "Imagine que você acabou de conhecer uma pessoa nova e quer adivinhar se ela gosta de esportes. Você olha para outras pessoas parecidas com ela (em idade, gênero, hábitos, etc.) e observa se essas pessoas gostam ou não de esportes.\n",
    "\n",
    "### O KNN faz exatamente isso:\n",
    "\n",
    "* Recebe um novo exemplo (por exemplo, um passageiro do Titanic).\n",
    "\n",
    "* Procura os \"K\" vizinhos mais próximos dele no conjunto de dados — ou seja, os mais parecidos com base nas características (idade, classe, sexo, etc.).\n",
    "\n",
    "* Vota entre os vizinhos: se a maioria sobreviveu, o novo exemplo provavelmente também sobreviveria. Se a maioria não sobreviveu, ele também não sobreviveria.\n",
    "\n",
    "### Termos Importantes\n",
    "\n",
    "* **K**: número de vizinhos considerados. Exemplo: K = 3 → o algoritmo olha os 3 mais próximos.\n",
    "\n",
    "* **Distância**: é como o algoritmo mede quem está mais \"próximo\". A distância mais usada é a Euclidiana (como a régua entre dois pontos).\n",
    "\n",
    "* **Classificação**: prever a categoria de algo (ex: sobreviveu ou não).\n",
    "\n",
    "* **Regressão**: prever um valor numérico (ex: nota de um aluno).\n",
    "\n",
    "### Exemplo simples\n",
    "\n",
    "Imagine o gráfico abaixo, com pessoas que sobreviveram ou não no Titanic:\n",
    "\n",
    "🟢 = Sobreviveu\n",
    "🔴 = Não Sobreviveu\n",
    "❓ = Novo passageiro\n",
    "\n",
    "```\n",
    "        🟢         🔴\n",
    "          \n",
    "    🔴     ❓      🟢\n",
    "          \n",
    "        🟢         🔴\n",
    "```\n",
    "\n",
    "Se K = 3, o algoritmo olha os 3 pontos mais próximos. Suponha que sejam dois 🟢 e um 🔴 → o novo passageiro será classificado como sobreviveu.\n",
    "\n",
    "**Vantagens do KNN**\n",
    "\n",
    "* Simples e fácil de entender.\n",
    "\n",
    "* Não exige treinamento complexo (os dados são salvos e usados diretamente).\n",
    "\n",
    "* Funciona bem quando as classes estão bem separadas.\n",
    "\n",
    "**Desvantagens do KNN**\n",
    "\n",
    "* Fica lento com muitos dados (porque precisa calcular a distância de todos os pontos).\n",
    "\n",
    "* Sensível a dados irrelevantes ou com escalas diferentes.\n",
    "\n",
    "* Não funciona bem em bases com muitos ruídos ou muitas variáveis (alta dimensionalidade).\n",
    "\n",
    "## **KNN no Titanic**\n",
    "\n",
    "No caso do dataset Titanic, podemos usar o KNN para prever se um passageiro sobreviveu ou não com base em:\n",
    "\n",
    "* Idade\n",
    "\n",
    "* Sexo\n",
    "\n",
    "* Classe social\n",
    "\n",
    "* Valor pago na passagem\n",
    "\n",
    "* Número de familiares a bordo\n",
    "\n",
    "Assim, ao receber os dados de um novo passageiro, o KNN buscará os passageiros mais parecidos no conjunto de dados e decidirá sua possível sobrevivência com base nisso.\n",
    "\n",
    "## **Conclusão**\n",
    "\n",
    "O KNN é como um “conselheiro por proximidade”: para tomar uma decisão, ele olha o que pessoas parecidas fizeram no passado. Por isso, ele é ótimo para começar no mundo do aprendizado de máquina."
   ]
  },
  {
   "cell_type": "code",
   "execution_count": null,
   "id": "aebd705d",
   "metadata": {},
   "outputs": [],
   "source": [
    "# Importar bibliotecas adicionais\n",
    "from sklearn.model_selection import train_test_split\n",
    "from sklearn.preprocessing import StandardScaler\n",
    "from sklearn.neighbors import KNeighborsClassifier\n",
    "from sklearn.metrics import classification_report, confusion_matrix\n",
    "\n",
    "# Selecionar features e target\n",
    "features = ['sex', 'age', 'pclass', 'fare']\n",
    "df = titanic_data[features + ['survived']].dropna()\n",
    "\n",
    "# Transformar dados categóricos em numéricos\n",
    "df['sex'] = df['sex'].map({'male': 0, 'female': 1})\n",
    "\n",
    "# Separar variáveis independentes (X) e variável alvo (y)\n",
    "X = df.drop('survived', axis=1)\n",
    "y = df['survived']\n",
    "\n",
    "# Dividir em conjunto de treino e teste\n",
    "X_train, X_test, y_train, y_test = train_test_split(X, y, test_size=0.3, random_state=42)\n",
    "\n",
    "# Padronizar os dados (muito importante para o KNN)\n",
    "scaler = StandardScaler()\n",
    "X_train_scaled = scaler.fit_transform(X_train)\n",
    "X_test_scaled = scaler.transform(X_test)\n",
    "\n",
    "# Criar e treinar o modelo KNN\n",
    "knn = KNeighborsClassifier(n_neighbors=5)\n",
    "knn.fit(X_train_scaled, y_train)\n",
    "\n",
    "# Fazer previsões\n",
    "y_pred = knn.predict(X_test_scaled)\n",
    "\n",
    "# Avaliar desempenho\n",
    "print(\"Matriz de Confusão:\\n\", confusion_matrix(y_test, y_pred))\n",
    "print(\"\\nRelatório de Classificação:\\n\", classification_report(y_test, y_pred))"
   ]
  }
 ],
 "metadata": {
  "colab": {
   "provenance": []
  },
  "kernelspec": {
   "display_name": "Python 3",
   "language": "python",
   "name": "python3"
  },
  "language_info": {
   "codemirror_mode": {
    "name": "ipython",
    "version": 3
   },
   "file_extension": ".py",
   "mimetype": "text/x-python",
   "name": "python",
   "nbconvert_exporter": "python",
   "pygments_lexer": "ipython3",
   "version": "3.9.5"
  }
 },
 "nbformat": 4,
 "nbformat_minor": 5
}
